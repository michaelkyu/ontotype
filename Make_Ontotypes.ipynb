{
 "cells": [
  {
   "cell_type": "code",
   "execution_count": 17,
   "metadata": {
    "collapsed": false
   },
   "outputs": [],
   "source": [
    "# Load modules\n",
    "import pandas as pd\n",
    "import numpy as np\n",
    "from Ontology import Ontology\n",
    "from IPython.display import display"
   ]
  },
  {
   "cell_type": "markdown",
   "metadata": {},
   "source": [
    "# Read Ontology  "
   ]
  },
  {
   "cell_type": "code",
   "execution_count": 18,
   "metadata": {
    "collapsed": false
   },
   "outputs": [
    {
     "name": "stdout",
     "output_type": "stream",
     "text": [
      "Done constructing ontology\n",
      "0\n"
     ]
    }
   ],
   "source": [
    "## Read ontology files\n",
    "# -- First parameter is a 2-column table of (gene, term) annotations\n",
    "# -- Second parameter is a 2-column table of (child term, parent term) pairs\n",
    "# -- This example is the S. cerevisiae (budding yeast) Gene Ontology used in Yu et al. Translation of Genotype to Phenotype by a Hierarchy of Cell Subsystems. Cell Syst. 2016 Feb 24;2(2):77-88.\n",
    "ont = Ontology('example/yeast_child_2_parent.txt', 'example/yeast_gene_2_term.txt')\n",
    "\n",
    "### Propagate  gene-to-term annotations.\n",
    "# -- If gene g is annotated to term t, then we ensure that g is also annotated to all ancestral terms of t\n",
    "ont.propagate_annotations()"
   ]
  },
  {
   "cell_type": "markdown",
   "metadata": {},
   "source": [
    "# Make Genotypes"
   ]
  },
  {
   "cell_type": "code",
   "execution_count": 19,
   "metadata": {
    "collapsed": true
   },
   "outputs": [],
   "source": [
    "# A list of gene pairs that were knocked out in each genotype\n",
    "double_knockouts = [\\\n",
    " ('YGR135W', 'YER065C'),\n",
    " ('YOR085W', 'YKL133C'),\n",
    " ('YPL017C', 'YOR380W'),\n",
    " ('YDL192W', 'YAL005C'),\n",
    " ('YJL214W', 'YGR203W'),\n",
    " ('YKL213C', 'YPR109W'),\n",
    " ('YKL213C', 'YDR458C'),\n",
    " ('YDR185C', 'YDL048C'),\n",
    " ('YPL213W', 'YJR127C'),\n",
    " ('YLR242C', 'YOL095C') \\\n",
    "                 ]"
   ]
  },
  {
   "cell_type": "markdown",
   "metadata": {},
   "source": [
    "# Calculate ontotypes"
   ]
  },
  {
   "cell_type": "code",
   "execution_count": 23,
   "metadata": {
    "collapsed": false
   },
   "outputs": [
    {
     "name": "stdout",
     "output_type": "stream",
     "text": [
      "Creating features 2016-07-28 13:15:49.389418\n",
      "scipy.csr True\n",
      "Making indices, indptr, data 2016-07-28 13:15:49.389829\n",
      "Making sparse CSR matrix 2016-07-28 13:15:49.416848\n",
      "Done creating features 2016-07-28 13:15:49.417492\n"
     ]
    }
   ],
   "source": [
    "## Calculate a strain-by-term dataframe\n",
    "# -- Each row represents a genetic strain's ontotype, and each column represents a term in the ontology.\n",
    "# -- Each value is calculated by simply summing the functional status of genes in that term.\n",
    "#    In this example, a term's value is 0 if none of its gene have been knocked out, is -1 if exactly one gene has been knocked out, and -2 if two genes have been knocked out\n",
    "# -- This simple calculation was used in Yu et al. Translation of Genotype to Phenotype by a Hierarchy of Cell Subsystems. Cell Syst. 2016 Feb 24;2(2):77-88.\n",
    "#    However, one can imagine different formulas for calculating the ontotype.\n",
    "ontotypes = ont.get_features(double_knockouts, prop='genes', format='scipy.csr')"
   ]
  },
  {
   "cell_type": "code",
   "execution_count": 24,
   "metadata": {
    "collapsed": false
   },
   "outputs": [
    {
     "name": "stdout",
     "output_type": "stream",
     "text": [
      "<class 'scipy.sparse.csr.csr_matrix'>\n"
     ]
    }
   ],
   "source": [
    "# The ontotypes are currently represented as a scipy.sparse matrix.\n",
    "print type(ontotypes)\n",
    "\n",
    "# If needed, convert to a dense array. Note that this representation will probably require much more memory.\n",
    "ontotypes = ontotypes.toarray()"
   ]
  }
 ],
 "metadata": {
  "kernelspec": {
   "display_name": "Python 2",
   "language": "python",
   "name": "python2"
  },
  "language_info": {
   "codemirror_mode": {
    "name": "ipython",
    "version": 2
   },
   "file_extension": ".py",
   "mimetype": "text/x-python",
   "name": "python",
   "nbconvert_exporter": "python",
   "pygments_lexer": "ipython2",
   "version": "2.7.11"
  }
 },
 "nbformat": 4,
 "nbformat_minor": 0
}
